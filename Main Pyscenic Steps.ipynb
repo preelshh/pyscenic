{
 "cells": [
  {
   "cell_type": "code",
   "execution_count": 3,
   "id": "c029718a",
   "metadata": {},
   "outputs": [],
   "source": [
    "# import dependencies\n",
    "import os\n",
    "import numpy as np\n",
    "import pandas as pd\n",
    "import scanpy as sc\n",
    "import loompy as lp\n",
    "from MulticoreTSNE import MulticoreTSNE as TSNE\n",
    "from dask.diagnostics import ProgressBar\n",
    "from ctxcore.rnkdb import FeatherRankingDatabase as RankingDatabase\n",
    "from pyscenic.utils import modules_from_adjacencies, load_motifs\n",
    "from pyscenic.prune import prune2df, df2regulons\n",
    "from pyscenic.aucell import aucell\n",
    "import seaborn as sns\n",
    "\n",
    "\n",
    "\n",
    "from multiprocessing import cpu_count\n",
    "from operator import concat\n",
    "from typing import Callable, Sequence, Type, TypeVar\n",
    "\n",
    "import pandas as pd\n",
    "from boltons.iterutils import chunked_iter\n",
    "from ctxcore.genesig import GeneSignature, Regulon\n",
    "from ctxcore.rnkdb import MemoryDecorator, RankingDatabase\n",
    "from dask import delayed\n",
    "from dask.dataframe import from_delayed\n",
    "from dask.distributed import Client, LocalCluster\n",
    "from multiprocessing_on_dill.connection import Pipe\n",
    "from multiprocessing_on_dill.context import Process\n",
    "\n",
    "\n"
   ]
  },
  {
   "cell_type": "code",
   "execution_count": 4,
   "id": "ccec818e",
   "metadata": {},
   "outputs": [],
   "source": [
    "#pip install dask-expr==0.5.3 distributed==2024.2.1 #deal with DASK issues due to recent updates to DASK"
   ]
  },
  {
   "cell_type": "code",
   "execution_count": 25,
   "id": "f4dab85e",
   "metadata": {},
   "outputs": [],
   "source": [
    "adata = sc.read('/u/scratch/p/priyalsh/tcell_for_pyscenic_steps.h5ad')"
   ]
  },
  {
   "cell_type": "code",
   "execution_count": 5,
   "id": "2fd02474",
   "metadata": {},
   "outputs": [],
   "source": [
    "# path to unfiltered loom file (this will be created in the optional steps below)\n",
    "f_loom_path_unfilt = \"tcell_for_pyscenic.loom\" # test dataset, n=500 cells\n",
    "f_loom_path_scenic = \"tcell_for_pyscenic.loom\"\n",
    "# path to pyscenic output\n",
    "f_pyscenic_output = \"pyscenic_output.loom\""
   ]
  },
  {
   "cell_type": "code",
   "execution_count": 6,
   "id": "d1bf52ce",
   "metadata": {},
   "outputs": [],
   "source": [
    "#ls"
   ]
  },
  {
   "cell_type": "code",
   "execution_count": 7,
   "id": "5900c1c9",
   "metadata": {},
   "outputs": [
    {
     "name": "stdout",
     "output_type": "stream",
     "text": [
      "-----\n",
      "anndata     0.10.9\n",
      "scanpy      1.10.3\n",
      "-----\n",
      "MulticoreTSNE               NA\n",
      "PIL                         8.3.1\n",
      "anyio                       NA\n",
      "asciitree                   NA\n",
      "attr                        21.2.0\n",
      "babel                       2.9.1\n",
      "backcall                    0.2.0\n",
      "boltons                     NA\n",
      "certifi                     2021.05.30\n",
      "cffi                        1.14.6\n",
      "charset_normalizer          2.0.4\n",
      "click                       8.1.8\n",
      "cloudpickle                 3.1.1\n",
      "ctxcore                     0.2.0\n",
      "cycler                      0.10.0\n",
      "cython_runtime              NA\n",
      "cytoolz                     1.0.1\n",
      "dask                        2024.2.1\n",
      "dateutil                    2.8.2\n",
      "decorator                   5.0.9\n",
      "defusedxml                  0.7.1\n",
      "dill                        0.3.9\n",
      "distributed                 2024.2.1\n",
      "entrypoints                 0.3\n",
      "exceptiongroup              1.2.2\n",
      "frozendict                  2.4.6\n",
      "fsspec                      2025.2.0\n",
      "h5py                        3.13.0\n",
      "idna                        3.2\n",
      "igraph                      0.11.8\n",
      "importlib_resources         NA\n",
      "ipykernel                   6.2.0\n",
      "ipython_genutils            0.2.0\n",
      "jedi                        0.18.0\n",
      "jinja2                      3.0.1\n",
      "joblib                      1.4.2\n",
      "json5                       NA\n",
      "jsonschema                  3.2.0\n",
      "jupyter_server              1.10.2\n",
      "jupyterlab_server           2.7.1\n",
      "kiwisolver                  1.3.1\n",
      "legacy_api_wrap             NA\n",
      "leidenalg                   0.10.2\n",
      "llvmlite                    0.43.0\n",
      "locket                      NA\n",
      "loompy                      3.0.8\n",
      "louvain                     0.8.2\n",
      "lz4                         4.4.3\n",
      "markupsafe                  2.0.1\n",
      "matplotlib                  3.9.4\n",
      "mpl_toolkits                NA\n",
      "msgpack                     1.1.0\n",
      "multiprocessing_on_dill     3.5.0a4\n",
      "natsort                     8.4.0\n",
      "nbclassic                   NA\n",
      "nbformat                    5.1.3\n",
      "numba                       0.60.0\n",
      "numcodecs                   0.12.1\n",
      "numexpr                     2.10.2\n",
      "numpy                       2.0.2\n",
      "numpy_groupies              0.11.2\n",
      "packaging                   24.2\n",
      "pandas                      2.2.3\n",
      "parso                       0.8.2\n",
      "patsy                       1.0.1\n",
      "pexpect                     4.8.0\n",
      "pickleshare                 0.7.5\n",
      "pkg_resources               NA\n",
      "prometheus_client           NA\n",
      "prompt_toolkit              3.0.19\n",
      "psutil                      7.0.0\n",
      "ptyprocess                  0.7.0\n",
      "pvectorc                    NA\n",
      "pyarrow                     19.0.1\n",
      "pycparser                   2.20\n",
      "pyexpat                     NA\n",
      "pygments                    2.10.0\n",
      "pyparsing                   2.4.7\n",
      "pyrsistent                  NA\n",
      "pyscenic                    0.12.1+2.geaf23eb\n",
      "pytz                        2021.1\n",
      "requests                    2.26.0\n",
      "scipy                       1.13.1\n",
      "seaborn                     0.13.2\n",
      "send2trash                  NA\n",
      "session_info                1.0.0\n",
      "six                         1.16.0\n",
      "sklearn                     1.6.1\n",
      "sniffio                     1.2.0\n",
      "sortedcontainers            2.4.0\n",
      "statsmodels                 0.14.4\n",
      "storemagic                  NA\n",
      "tblib                       3.1.0\n",
      "terminado                   0.11.1\n",
      "texttable                   1.7.0\n",
      "threadpoolctl               3.6.0\n",
      "tlz                         1.0.1\n",
      "toolz                       1.0.0\n",
      "torch                       2.6.0+cu124\n",
      "torchgen                    NA\n",
      "tornado                     6.4.2\n",
      "tqdm                        4.67.1\n",
      "traitlets                   5.0.5\n",
      "typing_extensions           NA\n",
      "urllib3                     1.26.6\n",
      "wcwidth                     0.2.5\n",
      "websocket                   1.2.1\n",
      "yaml                        6.0\n",
      "zarr                        2.18.2\n",
      "zict                        3.0.0\n",
      "zipp                        NA\n",
      "zmq                         22.2.1\n",
      "-----\n",
      "IPython             7.26.0\n",
      "jupyter_client      6.1.12\n",
      "jupyter_core        4.7.1\n",
      "jupyterlab          3.1.7\n",
      "notebook            6.4.3\n",
      "-----\n",
      "Python 3.9.6 (default, Aug 18 2021, 11:08:34) [GCC 4.8.5 20150623 (Red Hat 4.8.5-44)]\n",
      "Linux-3.10.0-1160.108.1.el7.x86_64-x86_64-with-glibc2.17\n",
      "-----\n",
      "Session information updated at 2025-04-21 18:04\n"
     ]
    }
   ],
   "source": [
    "sc.settings.verbosity = 3 # verbosity: errors (0), warnings (1), info (2), hints (3)\n",
    "sc.logging.print_versions()\n",
    "sc.set_figure_params(dpi=150, fontsize=10, dpi_save=600)"
   ]
  },
  {
   "cell_type": "code",
   "execution_count": 8,
   "id": "5034f783",
   "metadata": {},
   "outputs": [],
   "source": [
    "# Set maximum number of jobs for Scanpy.\n",
    "sc.settings.njobs = 20"
   ]
  },
  {
   "cell_type": "markdown",
   "id": "ec9f4d12",
   "metadata": {},
   "source": [
    "## write to an unfiltered loom file"
   ]
  },
  {
   "cell_type": "markdown",
   "id": "6d5a3fd6",
   "metadata": {},
   "source": [
    "row_attrs = { \n",
    "    \"Gene\": np.array(adata.var.index) ,\n",
    "}\n",
    "col_attrs = { \n",
    "    \"CellID\":  np.array(adata.obs.index) ,\n",
    "    \"nGene\": np.array( np.sum(adata.X.transpose()>0 , axis=0)).flatten() ,\n",
    "    \"nUMI\": np.array( np.sum(adata.X.transpose() , axis=0)).flatten() ,\n",
    "    \"stimulation\": np.array(adata.obs.stimulation),\n",
    "    \"cd_status\": np.array(adata.obs.cd_status)\n",
    "}\n",
    "\n",
    "lp.create( f_loom_path_unfilt, adata.X.transpose(), row_attrs, col_attrs )"
   ]
  },
  {
   "cell_type": "markdown",
   "id": "09bb7c10",
   "metadata": {},
   "source": [
    "# FILTERING "
   ]
  },
  {
   "cell_type": "code",
   "execution_count": 8,
   "id": "0031496a",
   "metadata": {},
   "outputs": [],
   "source": [
    "#len(allTFs_hg38.txt.1)"
   ]
  },
  {
   "cell_type": "code",
   "execution_count": null,
   "id": "a69821c8",
   "metadata": {},
   "outputs": [],
   "source": []
  },
  {
   "cell_type": "markdown",
   "id": "2da873a8",
   "metadata": {},
   "source": [
    "# SCENIC Steps"
   ]
  },
  {
   "cell_type": "markdown",
   "id": "9ad4c6de",
   "metadata": {},
   "source": [
    "## STEP 1: Gene regulatory network inference, and generation of co-expression modules"
   ]
  },
  {
   "cell_type": "markdown",
   "id": "906f38cf",
   "metadata": {},
   "source": [
    "### Phase Ia: GRN inference using the GRNBoost2 algorithm"
   ]
  },
  {
   "cell_type": "markdown",
   "id": "bf0c13f9",
   "metadata": {},
   "source": [
    "For this step the CLI version of SCENIC is used. This step can be deployed on an High Performance Computing system. We use the counts matrix (without log transformation or further processing) from the loom file we wrote earlier. Output: List of adjacencies between a TF and its targets stored in ADJACENCIES_FNAME."
   ]
  },
  {
   "cell_type": "code",
   "execution_count": 9,
   "id": "9f3dacb5",
   "metadata": {},
   "outputs": [],
   "source": [
    "f_tfs = '/u/home/p/priyalsh/allTFs_hg38.txt.1'\n",
    "#pyscenic grn {tcell_for_pyscenic.loom} {allTFs_hg38.txt.1} -o adj.csv --num_workers 20"
   ]
  },
  {
   "cell_type": "code",
   "execution_count": 10,
   "id": "be687c60",
   "metadata": {},
   "outputs": [],
   "source": [
    "with open('/u/home/p/priyalsh/allTFs_hg38.txt.1', \"r\") as f:\n",
    "    contents = f.read()\n",
    "    \n",
    "    "
   ]
  },
  {
   "cell_type": "code",
   "execution_count": 18,
   "id": "9e627fb3",
   "metadata": {},
   "outputs": [
    {
     "name": "stdout",
     "output_type": "stream",
     "text": [
      "adj.csv                              pbmc10k_filtered_scenic.loom\r\n",
      "allTFs_hg38.txt                      pbmc10k_unfiltered.loom\r\n",
      "allTFs_hg38.txt.1                    \u001b[0m\u001b[38;5;51mproject-mcdb\u001b[0m@\r\n",
      "Cell_Oracle2.ipynb                   \u001b[38;5;27mpysam\u001b[0m/\r\n",
      "Cell_Oracle.ipynb                    pyscenic.ipynb\r\n",
      "\u001b[38;5;34mcelloracle_ubuntu_0.18.0.sif\u001b[0m*        Pyscenic.ipynb\r\n",
      "expr_mat.loom                        Pyscenic_Preprocessing_Steps.ipynb\r\n",
      "filtering_panel_postfilter.pdf       pyscenic_with_new_package.ipynb\r\n",
      "filtering_panel_prefilter.pdf        reg.csv\r\n",
      "Main Pyscenic Steps.ipynb            \u001b[38;5;27mscimilarity\u001b[0m/\r\n",
      "--method                             --seed\r\n",
      "\u001b[38;5;27mminiconda3\u001b[0m/                          tcell_for_pyscenic.loom\r\n",
      "Miniconda3-latest-Linux-x86_64.sh    tcell_hoffman_filtered.loom\r\n",
      "Miniconda3-latest-Linux-x86_64.sh.1  Untitled1.ipynb\r\n",
      "Miniconda3-latest-Linux-x86_64.sh.2  Untitled3.ipynb\r\n",
      "Miniconda3-latest-Linux-x86_64.sh.3  Untitled4.ipynb\r\n",
      "Miniconda3-latest-Linux-x86_64.sh.4  Untitled5.ipynb\r\n",
      "Miniconda3-latest-Linux-x86_64.sh.5  Untitled6.ipynb\r\n",
      "Model.ipynb                          Untitled.ipynb\r\n",
      "my_job                               \u001b[38;5;34mzsync_curl\u001b[0m*\r\n",
      "--num_workers                        zsync_curl.1\r\n",
      "--output                             zsync_curl.2\r\n"
     ]
    }
   ],
   "source": [
    "ls"
   ]
  },
  {
   "cell_type": "code",
   "execution_count": 11,
   "id": "b79f2399",
   "metadata": {},
   "outputs": [],
   "source": [
    "#!pyscenic grn tcell_for_pyscenic.loom allTFs_hg38.txt.1 -o adj.csv --num_workers 20"
   ]
  },
  {
   "cell_type": "markdown",
   "id": "edd7abbb",
   "metadata": {},
   "source": [
    "read in the adj. matrix"
   ]
  },
  {
   "cell_type": "code",
   "execution_count": 21,
   "id": "bb0f1bcd",
   "metadata": {},
   "outputs": [],
   "source": [
    "import pandas as pd\n",
    "adjacencies = pd.read_csv(\"/u/scratch/p/priyalsh/adj_draft.csv\")"
   ]
  },
  {
   "cell_type": "code",
   "execution_count": 22,
   "id": "1c4a890b",
   "metadata": {},
   "outputs": [
    {
     "data": {
      "text/html": [
       "<div>\n",
       "<style scoped>\n",
       "    .dataframe tbody tr th:only-of-type {\n",
       "        vertical-align: middle;\n",
       "    }\n",
       "\n",
       "    .dataframe tbody tr th {\n",
       "        vertical-align: top;\n",
       "    }\n",
       "\n",
       "    .dataframe thead th {\n",
       "        text-align: right;\n",
       "    }\n",
       "</style>\n",
       "<table border=\"1\" class=\"dataframe\">\n",
       "  <thead>\n",
       "    <tr style=\"text-align: right;\">\n",
       "      <th></th>\n",
       "      <th>TF</th>\n",
       "      <th>target</th>\n",
       "      <th>importance</th>\n",
       "    </tr>\n",
       "  </thead>\n",
       "  <tbody>\n",
       "    <tr>\n",
       "      <th>0</th>\n",
       "      <td>BACH1</td>\n",
       "      <td>RP11-1143G9.4</td>\n",
       "      <td>7.951264</td>\n",
       "    </tr>\n",
       "    <tr>\n",
       "      <th>1</th>\n",
       "      <td>NF1</td>\n",
       "      <td>MS4A6A</td>\n",
       "      <td>7.357305</td>\n",
       "    </tr>\n",
       "    <tr>\n",
       "      <th>2</th>\n",
       "      <td>ZNF445</td>\n",
       "      <td>PLXNA3</td>\n",
       "      <td>7.058632</td>\n",
       "    </tr>\n",
       "    <tr>\n",
       "      <th>3</th>\n",
       "      <td>ZNF445</td>\n",
       "      <td>TLR5</td>\n",
       "      <td>7.049752</td>\n",
       "    </tr>\n",
       "    <tr>\n",
       "      <th>4</th>\n",
       "      <td>ZNF445</td>\n",
       "      <td>SNAI3</td>\n",
       "      <td>6.917426</td>\n",
       "    </tr>\n",
       "  </tbody>\n",
       "</table>\n",
       "</div>"
      ],
      "text/plain": [
       "       TF         target  importance\n",
       "0   BACH1  RP11-1143G9.4    7.951264\n",
       "1     NF1         MS4A6A    7.357305\n",
       "2  ZNF445         PLXNA3    7.058632\n",
       "3  ZNF445           TLR5    7.049752\n",
       "4  ZNF445          SNAI3    6.917426"
      ]
     },
     "execution_count": 22,
     "metadata": {},
     "output_type": "execute_result"
    }
   ],
   "source": [
    "adjacencies.head()"
   ]
  },
  {
   "cell_type": "code",
   "execution_count": null,
   "id": "a11c4dcc",
   "metadata": {},
   "outputs": [],
   "source": []
  },
  {
   "cell_type": "code",
   "execution_count": 39,
   "id": "85010fb5",
   "metadata": {},
   "outputs": [],
   "source": []
  },
  {
   "cell_type": "markdown",
   "id": "8805d628",
   "metadata": {},
   "source": [
    "# STEP 2-3: Regulon prediction aka cisTarget from CLI"
   ]
  },
  {
   "cell_type": "markdown",
   "id": "2cde6620",
   "metadata": {},
   "source": [
    "For this step the CLI version of SCENIC is used. This step can be deployed on an High Performance Computing system.\n",
    "\n",
    "Output: List of adjacencies between a TF and its targets stored in MOTIFS_FNAME.\n",
    "\n",
    "locations for ranking databases, and motif annotations:"
   ]
  },
  {
   "cell_type": "code",
   "execution_count": 23,
   "id": "05abfa75",
   "metadata": {},
   "outputs": [],
   "source": [
    "import glob\n",
    "# ranking databases\n",
    "f_db_glob = \"/u/scratch/p/priyalsh/hg38__refseq-r80__10kb_up_and_down_tss.mc9nr.genes_vs_motifs.rankings.feather\"\n",
    "f_db_names = ' '.join( glob.glob(f_db_glob) )\n",
    "\n",
    "# motif databases\n",
    "f_motif_path = \"/u/scratch/p/priyalsh/motifs-v9-nr.hgnc-m0.001-o0.0.feather\""
   ]
  },
  {
   "cell_type": "code",
   "execution_count": 24,
   "id": "6e12ce56",
   "metadata": {},
   "outputs": [],
   "source": [
    "#!pyscenic ctx /u/scratch/p/priyalsh/adj_draft.csv \\\n",
    "#    /u/scratch/p/priyalsh/hg38__refseq-r80__10kb_up_and_down_tss.mc9nr.genes_vs_motifs.rankings.feather \\\n",
    "#    --annotations_fname /u/scratch/p/priyalsh/motifs-v9-nr.hgnc-m0.001-o0.0.feather \\\n",
    "#    --expression_mtx_fname /u/home/p/priyalsh/tcell_for_pyscenic.loom \\\n",
    "#    --output reg.csv \\\n",
    "#    --mask_dropouts \\\n",
    "#    --num_workers 20"
   ]
  },
  {
   "cell_type": "markdown",
   "id": "de0b9d40",
   "metadata": {},
   "source": [
    "# STEP 4: Cellular enrichment (aka AUCell) from CLI"
   ]
  },
  {
   "cell_type": "markdown",
   "id": "7d1fa588",
   "metadata": {},
   "source": [
    "It is important to check that most cells have a substantial fraction of expressed/detected genes in the calculation of the AUC. The following histogram gives an idea of the distribution and allows selection of an appropriate threshold. In this plot, a few thresholds are highlighted, with the number of genes selected shown in red text and the corresponding percentile in parentheses). See the relevant section in the R tutorial for more information.\n",
    "\n",
    "By using the default setting for --auc_threshold of 0.05, we see that 1192 genes are selected for the rankings based on the plot below."
   ]
  },
  {
   "cell_type": "code",
   "execution_count": 27,
   "id": "25fcd4cf",
   "metadata": {},
   "outputs": [
    {
     "name": "stdout",
     "output_type": "stream",
     "text": [
      "0.01     496.0\n",
      "0.05     603.0\n",
      "0.10     713.0\n",
      "0.50    1131.0\n",
      "1.00    7475.0\n",
      "dtype: float64\n"
     ]
    }
   ],
   "source": [
    "\n",
    "nGenesDetectedPerCell = np.sum(adata.X > 0, axis=1)\n",
    "nGenesDetectedPerCell = pd.Series(nGenesDetectedPerCell)\n",
    "percentiles = nGenesDetectedPerCell.quantile([.01, .05, .10, .50, 1])\n",
    "print(percentiles)\n"
   ]
  },
  {
   "cell_type": "code",
   "execution_count": 29,
   "id": "1702af24",
   "metadata": {},
   "outputs": [
    {
     "data": {
      "image/png": "[encoded data removed]",
      "text/plain": [
       "<Figure size 1200x750 with 1 Axes>"
      ]
     },
     "metadata": {
      "image/png": {
       "height": 736,
       "width": 1182
      },
      "needs_background": "light"
     },
     "output_type": "display_data"
    }
   ],
   "source": [
    "import seaborn as sns\n",
    "import matplotlib.pyplot as plt\n",
    "\n",
    "fig, ax = plt.subplots(1, 1, figsize=(8, 5), dpi=150)\n",
    "sns.histplot(nGenesDetectedPerCell, kde=False, bins='fd')\n",
    "for i,x in enumerate(percentiles):\n",
    "    fig.gca().axvline(x=x, ymin=0,ymax=1, color='red')\n",
    "    ax.text(x=x, y=ax.get_ylim()[1], s=f'{int(x)} ({percentiles.index.values[i]*100}%)', color='red', rotation=30, size='x-small',rotation_mode='anchor' )\n",
    "ax.set_xlabel('# of genes')\n",
    "ax.set_ylabel('# of cells')\n",
    "fig.tight_layout()"
   ]
  },
  {
   "cell_type": "code",
   "execution_count": 9,
   "id": "f0cd055a",
   "metadata": {},
   "outputs": [
    {
     "name": "stdout",
     "output_type": "stream",
     "text": [
      "\n",
      "2025-04-21 18:04:10,213 - pyscenic.cli.pyscenic - INFO - Loading expression matrix.\n",
      "\n",
      "2025-04-21 18:04:48,682 - pyscenic.cli.pyscenic - INFO - Loading gene signatures.\n",
      "Create regulons from a dataframe of enriched features.\n",
      "Additional columns saved: []\n",
      "\n",
      "2025-04-21 18:04:48,706 - pyscenic.cli.pyscenic - INFO - Calculating cellular enrichment.\n"
     ]
    }
   ],
   "source": [
    "!pyscenic aucell \\\n",
    "    {f_loom_path_scenic} \\\n",
    "    reg.csv \\\n",
    "    --output {f_pyscenic_output} \\\n",
    "    --num_workers 20"
   ]
  },
  {
   "cell_type": "code",
   "execution_count": null,
   "id": "f4f3d935",
   "metadata": {},
   "outputs": [],
   "source": []
  }
 ],
 "metadata": {
  "kernelspec": {
   "display_name": "Python 3 (ipykernel)",
   "language": "python",
   "name": "python3"
  },
  "language_info": {
   "codemirror_mode": {
    "name": "ipython",
    "version": 3
   },
   "file_extension": ".py",
   "mimetype": "text/x-python",
   "name": "python",
   "nbconvert_exporter": "python",
   "pygments_lexer": "ipython3",
   "version": "3.9.6"
  }
 },
 "nbformat": 4,
 "nbformat_minor": 5
}
